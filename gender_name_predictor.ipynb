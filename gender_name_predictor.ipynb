{
 "cells": [
  {
   "cell_type": "markdown",
   "metadata": {},
   "source": [
    "### Gender predictor using the first name"
   ]
  },
  {
   "cell_type": "code",
   "execution_count": 38,
   "metadata": {},
   "outputs": [
    {
     "data": {
      "text/html": [
       "<div>\n",
       "<style scoped>\n",
       "    .dataframe tbody tr th:only-of-type {\n",
       "        vertical-align: middle;\n",
       "    }\n",
       "\n",
       "    .dataframe tbody tr th {\n",
       "        vertical-align: top;\n",
       "    }\n",
       "\n",
       "    .dataframe thead th {\n",
       "        text-align: right;\n",
       "    }\n",
       "</style>\n",
       "<table border=\"1\" class=\"dataframe\">\n",
       "  <thead>\n",
       "    <tr style=\"text-align: right;\">\n",
       "      <th></th>\n",
       "      <th>nome</th>\n",
       "      <th>sexo</th>\n",
       "    </tr>\n",
       "  </thead>\n",
       "  <tbody>\n",
       "    <tr>\n",
       "      <th>0</th>\n",
       "      <td>Abagael</td>\n",
       "      <td>F</td>\n",
       "    </tr>\n",
       "    <tr>\n",
       "      <th>1</th>\n",
       "      <td>Abagail</td>\n",
       "      <td>F</td>\n",
       "    </tr>\n",
       "    <tr>\n",
       "      <th>2</th>\n",
       "      <td>Abbe</td>\n",
       "      <td>F</td>\n",
       "    </tr>\n",
       "    <tr>\n",
       "      <th>3</th>\n",
       "      <td>Abbey</td>\n",
       "      <td>F</td>\n",
       "    </tr>\n",
       "    <tr>\n",
       "      <th>4</th>\n",
       "      <td>Abbi</td>\n",
       "      <td>F</td>\n",
       "    </tr>\n",
       "  </tbody>\n",
       "</table>\n",
       "</div>"
      ],
      "text/plain": [
       "      nome sexo\n",
       "0  Abagael    F\n",
       "1  Abagail    F\n",
       "2     Abbe    F\n",
       "3    Abbey    F\n",
       "4     Abbi    F"
      ]
     },
     "execution_count": 38,
     "metadata": {},
     "output_type": "execute_result"
    }
   ],
   "source": [
    "import pandas as pd\n",
    "import numpy as np\n",
    "from sklearn.feature_extraction.text import CountVectorizer\n",
    "from sklearn.feature_extraction import DictVectorizer\n",
    "\n",
    "# change your path\n",
    "path = 'path_csv'\n",
    "\n",
    "file = os.path.join(path, \"names_dataset.csv\")\n",
    "df_names = pd.read_csv(file,sep=\",\" , index_col=None, header=0)\n",
    "df_names.head(5)"
   ]
  },
  {
   "cell_type": "code",
   "execution_count": 39,
   "metadata": {},
   "outputs": [
    {
     "name": "stdout",
     "output_type": "stream",
     "text": [
      "total gender\n",
      " sexo\n",
      "F    124281\n",
      "M     97410\n",
      "dtype: int64\n",
      "\n",
      "percent\n",
      " sexo\n",
      "F    0.560605\n",
      "M    0.439395\n",
      "dtype: float64\n"
     ]
    }
   ],
   "source": [
    "total_gender = df_names.groupby(['sexo'] ).size()\n",
    "per = df_names.groupby(['sexo'] ).agg( 'size')/df_names['sexo'].count()\n",
    "\n",
    "print('total gender\\n', total_gender.head(2))\n",
    "print('\\npercent\\n', per)"
   ]
  },
  {
   "cell_type": "code",
   "execution_count": 40,
   "metadata": {},
   "outputs": [
    {
     "data": {
      "text/html": [
       "<div>\n",
       "<style scoped>\n",
       "    .dataframe tbody tr th:only-of-type {\n",
       "        vertical-align: middle;\n",
       "    }\n",
       "\n",
       "    .dataframe tbody tr th {\n",
       "        vertical-align: top;\n",
       "    }\n",
       "\n",
       "    .dataframe thead th {\n",
       "        text-align: right;\n",
       "    }\n",
       "</style>\n",
       "<table border=\"1\" class=\"dataframe\">\n",
       "  <thead>\n",
       "    <tr style=\"text-align: right;\">\n",
       "      <th></th>\n",
       "      <th>nome</th>\n",
       "      <th>sexo</th>\n",
       "    </tr>\n",
       "  </thead>\n",
       "  <tbody>\n",
       "    <tr>\n",
       "      <th>0</th>\n",
       "      <td>abagael</td>\n",
       "      <td>0</td>\n",
       "    </tr>\n",
       "    <tr>\n",
       "      <th>1</th>\n",
       "      <td>abagail</td>\n",
       "      <td>0</td>\n",
       "    </tr>\n",
       "    <tr>\n",
       "      <th>2</th>\n",
       "      <td>abbe</td>\n",
       "      <td>0</td>\n",
       "    </tr>\n",
       "    <tr>\n",
       "      <th>3</th>\n",
       "      <td>abbey</td>\n",
       "      <td>0</td>\n",
       "    </tr>\n",
       "    <tr>\n",
       "      <th>4</th>\n",
       "      <td>abbi</td>\n",
       "      <td>0</td>\n",
       "    </tr>\n",
       "  </tbody>\n",
       "</table>\n",
       "</div>"
      ],
      "text/plain": [
       "      nome  sexo\n",
       "0  abagael     0\n",
       "1  abagail     0\n",
       "2     abbe     0\n",
       "3    abbey     0\n",
       "4     abbi     0"
      ]
     },
     "execution_count": 40,
     "metadata": {},
     "output_type": "execute_result"
    }
   ],
   "source": [
    "# Replace F=0 and M=1\n",
    "\n",
    "df_names['sexo'] = df_names['sexo'].map( {'F':0,'M':1} ).astype(int)\n",
    "\n",
    "df_names['nome'] = df_names['nome'].apply(lambda x: str(x).lower())\n",
    "\n",
    "df_names.head(5)"
   ]
  },
  {
   "cell_type": "code",
   "execution_count": 41,
   "metadata": {},
   "outputs": [],
   "source": [
    "\n",
    "\n",
    "# By Analogy most female names ends in 'A' or 'E' or has the sound of 'A'\n",
    "def features(name):\n",
    "    name = name.lower()\n",
    "    # create a dictionary\n",
    "    return {\n",
    "        'first-letter': name[0], # First letter\n",
    "        'first2-letters': name[0:2], # First 2 letters\n",
    "        'first3-letters': name[0:3], # First 3 letters\n",
    "        'last-letter': name[-1], # Last letter\n",
    "        'last2-letters': name[-2:],\n",
    "        'last3-letters': name[-3:],\n",
    "    }\n",
    "# Vectorize the features function\n",
    "features = np.vectorize(features)"
   ]
  },
  {
   "cell_type": "code",
   "execution_count": 42,
   "metadata": {},
   "outputs": [],
   "source": [
    "def genderpredictor(a, model):\n",
    "    if pd.notna(a):\n",
    "        test_name1 = [a]\n",
    "        transform_dv =dv.transform(features(test_name1))\n",
    "        vector = transform_dv.toarray()\n",
    "        if model.predict(vector) == 0:\n",
    "            return \"F\"\n",
    "        else:\n",
    "            return \"M\"\n",
    "    else:a"
   ]
  },
  {
   "cell_type": "code",
   "execution_count": 43,
   "metadata": {},
   "outputs": [
    {
     "data": {
      "text/plain": [
       "array([{'first-letter': 'a', 'first2-letters': 'ab', 'first3-letters': 'aba', 'last-letter': 'l', 'last2-letters': 'el', 'last3-letters': 'ael'},\n",
       "       {'first-letter': 'a', 'first2-letters': 'ab', 'first3-letters': 'aba', 'last-letter': 'l', 'last2-letters': 'il', 'last3-letters': 'ail'},\n",
       "       {'first-letter': 'a', 'first2-letters': 'ab', 'first3-letters': 'abb', 'last-letter': 'e', 'last2-letters': 'be', 'last3-letters': 'bbe'},\n",
       "       ...,\n",
       "       {'first-letter': 'z', 'first2-letters': 'zh', 'first3-letters': 'zhi', 'last-letter': 'g', 'last2-letters': 'ng', 'last3-letters': 'eng'},\n",
       "       {'first-letter': 'z', 'first2-letters': 'zi', 'first3-letters': 'zia', 'last-letter': 'n', 'last2-letters': 'an', 'last3-letters': 'aan'},\n",
       "       {'first-letter': 'z', 'first2-letters': 'zi', 'first3-letters': 'zih', 'last-letter': 'r', 'last2-letters': 'ir', 'last3-letters': 'hir'}],\n",
       "      dtype=object)"
      ]
     },
     "execution_count": 43,
     "metadata": {},
     "output_type": "execute_result"
    }
   ],
   "source": [
    "# Extract the features for the dataset\n",
    "df_X = features(df_names['nome'])\n",
    "df_X"
   ]
  },
  {
   "cell_type": "code",
   "execution_count": 44,
   "metadata": {},
   "outputs": [],
   "source": [
    "df_y = df_names['sexo']"
   ]
  },
  {
   "cell_type": "code",
   "execution_count": 57,
   "metadata": {},
   "outputs": [
    {
     "name": "stdout",
     "output_type": "stream",
     "text": [
      "\n",
      "dict name_test:\n",
      " [{'first-letter': 'm', 'first2-letters': 'ma', 'first3-letters': 'mar', 'last-letter': 'o', 'last2-letters': 'lo', 'last3-letters': 'elo'}\n",
      " {'first-letter': 'a', 'first2-letters': 'an', 'first3-letters': 'ana', 'last-letter': 'a', 'last2-letters': 'na', 'last3-letters': 'ana'}\n",
      " {'first-letter': 'd', 'first2-letters': 'di', 'first3-letters': 'die', 'last-letter': 'o', 'last2-letters': 'go', 'last3-letters': 'ego'}]\n",
      "\n",
      "DictVectorizer\n",
      "   (0, 2)\t1.0\n",
      "  (0, 5)\t1.0\n",
      "  (0, 8)\t1.0\n",
      "  (0, 10)\t1.0\n",
      "  (0, 12)\t1.0\n",
      "  (0, 16)\t1.0\n",
      "  (1, 0)\t1.0\n",
      "  (1, 3)\t1.0\n",
      "  (1, 6)\t1.0\n",
      "  (1, 9)\t1.0\n",
      "  (1, 13)\t1.0\n",
      "  (1, 14)\t1.0\n",
      "  (2, 1)\t1.0\n",
      "  (2, 4)\t1.0\n",
      "  (2, 7)\t1.0\n",
      "  (2, 10)\t1.0\n",
      "  (2, 11)\t1.0\n",
      "  (2, 15)\t1.0\n"
     ]
    }
   ],
   "source": [
    "from sklearn.feature_extraction import DictVectorizer\n",
    "dv = DictVectorizer()\n",
    "\n",
    "name_test = features(['marcelo', 'ana', 'diego'])\n",
    "# dict name_test\n",
    "print('\\ndict name_test:\\n',name_test)\n",
    "\n",
    "# Learn a list of feature name -> indices mappings.\n",
    "dv.fit(name_test)\n",
    "\n",
    "# Transform feature->value dicts to array or sparse matrix.\n",
    "transformed = dv.transform(name_test)\n",
    "print('\\nDictVectorizer\\n',transformed)"
   ]
  },
  {
   "cell_type": "code",
   "execution_count": 58,
   "metadata": {},
   "outputs": [
    {
     "data": {
      "text/plain": [
       "['first-letter=a',\n",
       " 'first-letter=d',\n",
       " 'first-letter=m',\n",
       " 'first2-letters=an',\n",
       " 'first2-letters=di',\n",
       " 'first2-letters=ma',\n",
       " 'first3-letters=ana',\n",
       " 'first3-letters=die',\n",
       " 'first3-letters=mar',\n",
       " 'last-letter=a',\n",
       " 'last-letter=o',\n",
       " 'last2-letters=go',\n",
       " 'last2-letters=lo',\n",
       " 'last2-letters=na',\n",
       " 'last3-letters=ana',\n",
       " 'last3-letters=ego',\n",
       " 'last3-letters=elo']"
      ]
     },
     "execution_count": 58,
     "metadata": {},
     "output_type": "execute_result"
    }
   ],
   "source": [
    "# Returns a list of feature names, ordered by their indices.\n",
    "dv.get_feature_names()"
   ]
  },
  {
   "cell_type": "code",
   "execution_count": 60,
   "metadata": {},
   "outputs": [
    {
     "data": {
      "text/plain": [
       "<148532x9813 sparse matrix of type '<class 'numpy.float64'>'\n",
       "\twith 891192 stored elements in Compressed Sparse Row format>"
      ]
     },
     "execution_count": 60,
     "metadata": {},
     "output_type": "execute_result"
    }
   ],
   "source": [
    "from sklearn.model_selection import train_test_split\n",
    "\n",
    "# Train Test Split\n",
    "dfX_train, dfX_test, dfy_train, dfy_test = train_test_split(df_X, df_y, test_size=0.33, random_state=42)\n",
    "\n",
    "dv = DictVectorizer()\n",
    "# Learn a list of feature name -> indices mappings and transform X.\n",
    "dv.fit_transform(dfX_train)"
   ]
  },
  {
   "cell_type": "code",
   "execution_count": 61,
   "metadata": {},
   "outputs": [
    {
     "data": {
      "text/plain": [
       "DecisionTreeClassifier()"
      ]
     },
     "execution_count": 61,
     "metadata": {},
     "output_type": "execute_result"
    }
   ],
   "source": [
    "# Model building Using DecisionTree\n",
    "\n",
    "from sklearn.tree import DecisionTreeClassifier\n",
    " \n",
    "dclf = DecisionTreeClassifier()\n",
    "my_xfeatures =dv.transform(dfX_train)\n",
    "dclf.fit(my_xfeatures, dfy_train)"
   ]
  },
  {
   "cell_type": "code",
   "execution_count": 64,
   "metadata": {},
   "outputs": [
    {
     "name": "stdout",
     "output_type": "stream",
     "text": [
      "0.9022950012985416\n",
      "Accuracy Model : 90.23% \n",
      "roc_auc Model : 90.00% \n",
      "precision Model : 89.39% \n",
      "recall Model : 88.18% \n"
     ]
    },
    {
     "data": {
      "text/plain": [
       "Text(0.5, 1.05, 'Confusion_matrix')"
      ]
     },
     "execution_count": 64,
     "metadata": {},
     "output_type": "execute_result"
    },
    {
     "data": {
      "image/png": "[encoded data removed]",
      "text/plain": [
       "<Figure size 432x288 with 2 Axes>"
      ]
     },
     "metadata": {
      "needs_background": "light"
     },
     "output_type": "display_data"
    }
   ],
   "source": [
    "import seaborn as sns\n",
    "import matplotlib.pyplot as plt\n",
    "from sklearn.metrics import classification_report, precision_score, recall_score, roc_auc_score, accuracy_score, confusion_matrix\n",
    "\n",
    "# Accuracy on test set\n",
    "print(dclf.score(dv.transform(dfX_test), dfy_test))\n",
    "\n",
    "y_pred_dclf = dclf.predict(dv.transform(dfX_test))\n",
    "\n",
    "result_dclf = accuracy_score(dfy_test, y_pred_dclf)*100\n",
    "print(\"Accuracy Model : %.2f%% \" % result_dclf)\n",
    "\n",
    "result_dclf = roc_auc_score(dfy_test, y_pred_dclf)*100\n",
    "print(\"roc_auc Model : %.2f%% \" % result_dclf)\n",
    "\n",
    "result_dclf = precision_score(dfy_test, y_pred_dclf)*100\n",
    "print(\"precision Model : %.2f%% \" % result_dclf)\n",
    "\n",
    "result_dclf = recall_score(dfy_test, y_pred_dclf)*100\n",
    "print(\"recall Model : %.2f%% \" % result_dclf)\n",
    "\n",
    "sns.heatmap(confusion_matrix(dfy_test,y_pred_dclf),annot=True,fmt='3.0f',cmap=\"summer\")\n",
    "plt.title('Confusion_matrix', y=1.05, size=15)"
   ]
  },
  {
   "cell_type": "code",
   "execution_count": 65,
   "metadata": {},
   "outputs": [
    {
     "name": "stderr",
     "output_type": "stream",
     "text": [
      "C:\\Users\\monitora\\anaconda3\\lib\\site-packages\\sklearn\\model_selection\\_split.py:297: FutureWarning: Setting a random_state has no effect since shuffle is False. This will raise an error in 0.24. You should leave random_state to its default (None), or set shuffle=True.\n",
      "  FutureWarning\n"
     ]
    }
   ],
   "source": [
    "# best parameters \n",
    "from sklearn.model_selection import GridSearchCV\n",
    "from sklearn.model_selection import KFold #for K-fold cross validation\n",
    "from sklearn.model_selection import cross_val_score #score evaluation\n",
    "from sklearn.model_selection import cross_val_predict #prediction\n",
    "\n",
    "kfold = KFold(n_splits=10, random_state=42)"
   ]
  },
  {
   "cell_type": "code",
   "execution_count": 68,
   "metadata": {},
   "outputs": [
    {
     "name": "stdout",
     "output_type": "stream",
     "text": [
      "Accuracy CV : 76.16% \n",
      "Best Estimators:  DecisionTreeClassifier(criterion='entropy', max_depth=50, max_features='auto',\n",
      "                       max_leaf_nodes=50, min_samples_split=5, random_state=42)\n",
      "Best hyperparameters (extern):  {'criterion': 'entropy', 'max_depth': 50, 'max_features': 'auto', 'max_leaf_nodes': 50, 'min_samples_split': 5}\n"
     ]
    }
   ],
   "source": [
    "parameters = {    \n",
    "    'max_depth':[20, 50, 80, 100, 150, 200],\n",
    "    'max_features':['auto','sqrt','log2'],\n",
    "    'criterion':['gini','entropy'],\n",
    "    'max_leaf_nodes': [5,7,10,15,20, 50], \n",
    "    'min_samples_split': [5,7,10, 20, 50]\n",
    "}\n",
    "\n",
    "dt = DecisionTreeClassifier(random_state=42, max_depth=100)\n",
    "\n",
    "dt_gs = GridSearchCV(dt,param_grid = parameters, cv=kfold, scoring=\"accuracy\")\n",
    "\n",
    "my_xfeatures =dv.transform(dfX_train)\n",
    "dt_gs.fit(my_xfeatures, dfy_train)\n",
    "\n",
    "\n",
    "# Best score\n",
    "param_dt_gs = dt_gs.best_estimator_\n",
    "result_dt_gs = dt_gs.best_score_*100\n",
    "print(\"Accuracy CV : %.2f%% \" % (result_dt_gs))\n",
    "\n",
    "print('Best Estimators: ',dt_gs.best_estimator_)\n",
    "print('Best hyperparameters (extern): ', dt_gs.best_params_)"
   ]
  },
  {
   "cell_type": "code",
   "execution_count": null,
   "metadata": {},
   "outputs": [],
   "source": [
    "from sklearn.ensemble import RandomForestClassifier\n",
    "\n",
    "parameters = {    \n",
    "    'n_estimators':[1000, 1500],\n",
    "    'max_depth':[100, 150, 200],\n",
    "    'max_features':['auto','sqrt','log2'],\n",
    "    'criterion':['gini','entropy']\n",
    "}\n",
    "rf = RandomForestClassifier(random_state=42, max_depth=100, n_estimators = 1000)\n",
    "\n",
    "rf_gs = GridSearchCV(rf,param_grid = parameters, cv=kfold, scoring=\"accuracy\")\n",
    "\n",
    "my_xfeatures =dv.transform(dfX_train)\n",
    "rf_gs.fit(my_xfeatures, dfy_train)\n",
    "\n",
    "\n",
    "# Best score\n",
    "param_rf_gs = rf_gs.best_estimator_\n",
    "result_rf_gs = rf_gs.best_score_*100\n",
    "print(\"Accuracy CV : %.2f%% \" % (result_rf_gs))\n",
    "\n",
    "print('Best Estimators: ',rf_gs.best_estimator_)\n",
    "print('Best hyperparameters (extern): ', rf_gs.best_params_)"
   ]
  },
  {
   "cell_type": "code",
   "execution_count": null,
   "metadata": {},
   "outputs": [],
   "source": []
  }
 ],
 "metadata": {
  "kernelspec": {
   "display_name": "Python 3",
   "language": "python",
   "name": "python3"
  },
  "language_info": {
   "codemirror_mode": {
    "name": "ipython",
    "version": 3
   },
   "file_extension": ".py",
   "mimetype": "text/x-python",
   "name": "python",
   "nbconvert_exporter": "python",
   "pygments_lexer": "ipython3",
   "version": "3.7.7"
  }
 },
 "nbformat": 4,
 "nbformat_minor": 4
}
